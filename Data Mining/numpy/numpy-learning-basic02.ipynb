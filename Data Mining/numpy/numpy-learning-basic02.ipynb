{
 "cells": [
  {
   "cell_type": "markdown",
   "metadata": {},
   "source": [
    "# NumPy 广播\n",
    "\n",
    "Refrences:     \n",
    "https://www.tutorialspoint.com/numpy/index.htm      \n",
    "https://www.jianshu.com/p/57e3c0a92f3a\n",
    "\n",
    "术语广播是指 NumPy 在算术运算期间处理不同形状的数组的能力。 对数组的算术运算通常在相应的元素上进行。 如果两个阵列具有完全相同的形状，则这些操作被无缝执行。"
   ]
  },
  {
   "cell_type": "code",
   "execution_count": 2,
   "metadata": {
    "collapsed": true
   },
   "outputs": [],
   "source": [
    "import numpy as np"
   ]
  },
  {
   "cell_type": "code",
   "execution_count": 3,
   "metadata": {},
   "outputs": [
    {
     "name": "stdout",
     "output_type": "stream",
     "text": [
      "[ 10  40  90 160]\n"
     ]
    }
   ],
   "source": [
    "# sample 1\n",
    "a = np.array([1, 2, 3, 4])\n",
    "b = np.array([10, 20, 30, 40])\n",
    "print a * b"
   ]
  },
  {
   "cell_type": "markdown",
   "metadata": {},
   "source": [
    "如果数组的维数不相同，则元素到元素的操作是不可能的。然而NumPy中任然可以对形状不相似的数组进行操作，因为他们具有广播功能。\n",
    "较小的数组会被广播到较大的数组，以便使他们的形状可兼容。\n",
    "\n",
    "如果满足以下规则，可以进行广播（略抽象...）：     \n",
    "* `ndim`较小的数组会在前面追加一个长度为1的维度（现在还不太理解。。）\n",
    "* 输出数组的每个维度的大小是输入数组该维度大小的最大值\n",
    "* 如果输入在每个维度中的大小与输出大小匹配，或其值正好为 1，则在计算中可它。\n",
    "* 如果输入的某个维度大小为 1，则该维度中的第一个数据元素将用于该维度的所有计算。\n",
    "\n",
    "如果上述规则产生有效结果，并且满足以下条件之一，那么数组被称为可广播的。\n",
    "\n",
    "* 数组拥有相同形状。\n",
    "* 数组拥有相同的维数，每个维度拥有相同长度，或者长度为 1。\n",
    "* 数组拥有极少的维度，可以在其前面追加长度为 1 的维度，使上述条件成立。"
   ]
  },
  {
   "cell_type": "code",
   "execution_count": 8,
   "metadata": {},
   "outputs": [
    {
     "name": "stdout",
     "output_type": "stream",
     "text": [
      "[[ 0  1  2]\n",
      " [10 11 12]\n",
      " [20 21 22]\n",
      " [30 31 32]]\n"
     ]
    }
   ],
   "source": [
    "# sample 2\n",
    "a = np.array([[0, 0, 0], [10, 10, 10], [20, 20, 20], [30, 30, 30]])\n",
    "b = np.array([0, 1, 2])\n",
    "print a + b"
   ]
  },
  {
   "cell_type": "markdown",
   "metadata": {},
   "source": [
    "下面图片展示了数组b如何通过广播与数组a兼容：     \n",
    "![](imgs/numpy-array-broadcast.jpg)"
   ]
  },
  {
   "cell_type": "markdown",
   "metadata": {},
   "source": [
    "# NumPy 数组上的迭代\n",
    "NpmPy包含一个数组迭代器对象numpy.nditer。他是一个有效的多维迭代器对象，可以用于在数组上进行迭代。数组的每个元素可以使用python的标准`Iterator`接口来访问。"
   ]
  },
  {
   "cell_type": "code",
   "execution_count": 13,
   "metadata": {},
   "outputs": [
    {
     "name": "stdout",
     "output_type": "stream",
     "text": [
      "origin array is: \n",
      " [[ 0  5 10 15]\n",
      " [20 25 30 35]\n",
      " [40 45 50 55]]\n",
      "-------遍历数组-------\n",
      "0 5 10 15 20 25 30 35 40 45 50 55\n"
     ]
    }
   ],
   "source": [
    "a = np.arange(0, 60, 5)\n",
    "a = a.reshape(3, 4)\n",
    "print 'origin array is: \\n %s' % a\n",
    "print \"-------遍历数组-------\"\n",
    "for x in np.nditer(a):\n",
    "    print x,"
   ]
  },
  {
   "cell_type": "code",
   "execution_count": null,
   "metadata": {
    "collapsed": true
   },
   "outputs": [],
   "source": []
  }
 ],
 "metadata": {
  "kernelspec": {
   "display_name": "Python 2",
   "language": "python",
   "name": "python2"
  },
  "language_info": {
   "codemirror_mode": {
    "name": "ipython",
    "version": 2
   },
   "file_extension": ".py",
   "mimetype": "text/x-python",
   "name": "python",
   "nbconvert_exporter": "python",
   "pygments_lexer": "ipython2",
   "version": "2.7.14"
  }
 },
 "nbformat": 4,
 "nbformat_minor": 2
}
