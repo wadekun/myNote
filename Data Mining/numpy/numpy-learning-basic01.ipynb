{
 "cells": [
  {
   "cell_type": "code",
   "execution_count": 1,
   "metadata": {
    "collapsed": true
   },
   "outputs": [],
   "source": [
    "\"\"\"\n",
    "NumPy（numeric Python） 是python中的处理多维数组的包。\n",
    "\"\"\"\n",
    "import numpy as np # 引入Numpy"
   ]
  },
  {
   "cell_type": "markdown",
   "metadata": {},
   "source": [
    "# numpy 数组属性"
   ]
  },
  {
   "cell_type": "code",
   "execution_count": 2,
   "metadata": {},
   "outputs": [
    {
     "name": "stdout",
     "output_type": "stream",
     "text": [
      "(2, 3)\n",
      "[[1 2]\n",
      " [3 4]\n",
      " [5 6]]\n"
     ]
    }
   ],
   "source": [
    "\"\"\"\n",
    "ndarray.shape\n",
    "返回一个表示数组维度的元组，也可用于调整数组大小\n",
    "\"\"\"\n",
    "a = np.array([[1, 2, 3], [4, 5, 6]])\n",
    "print a.shape\n",
    "\n",
    "# 调整数组大小\n",
    "a.shape = (3, 2)\n",
    "print a"
   ]
  },
  {
   "cell_type": "code",
   "execution_count": 3,
   "metadata": {},
   "outputs": [
    {
     "name": "stdout",
     "output_type": "stream",
     "text": [
      "[ 0  1  2  3  4  5  6  7  8  9 10 11 12 13 14 15 16 17 18 19 20 21 22 23]\n",
      "1\n",
      "[[[ 0  1  2  3]\n",
      "  [ 4  5  6  7]\n",
      "  [ 8  9 10 11]]\n",
      "\n",
      " [[12 13 14 15]\n",
      "  [16 17 18 19]\n",
      "  [20 21 22 23]]]\n",
      "3\n"
     ]
    }
   ],
   "source": [
    "\n",
    "\"\"\"\n",
    "ndarray.ndim\n",
    "返回数组的维度数\n",
    "\"\"\"\n",
    "b = np.arange(24)\n",
    "print b\n",
    "print b.ndim\n",
    "c = b.reshape(2, 3, 4)\n",
    "print c\n",
    "print c.ndim"
   ]
  },
  {
   "cell_type": "code",
   "execution_count": 4,
   "metadata": {},
   "outputs": [
    {
     "name": "stdout",
     "output_type": "stream",
     "text": [
      "2\n"
     ]
    }
   ],
   "source": [
    "\"\"\"\n",
    "ndarray.itemsize\n",
    "返回数组中元素的字节数\n",
    "\"\"\"\n",
    "d = np.array([[1, 2, 3], [4, 5, 6]], dtype='int16') # int16 占两个字节\n",
    "print d.itemsize"
   ]
  },
  {
   "cell_type": "markdown",
   "metadata": {},
   "source": [
    "# NumPy 数组创建"
   ]
  },
  {
   "cell_type": "code",
   "execution_count": 5,
   "metadata": {},
   "outputs": [
    {
     "name": "stdout",
     "output_type": "stream",
     "text": [
      "[[-9223372036854775808 -9223372036854775808           4546756615]\n",
      " [          4546835632           4529409056           4546835912]\n",
      " [                   0                    0           4525975360]]\n"
     ]
    }
   ],
   "source": [
    "\"\"\"\n",
    "numpy.empty(shape, dtype=float, order='C')\n",
    "@param shape 空数组的形状，整数或元组\n",
    "@param dtype 数据类型\n",
    "@Order 'C'为按行的C风格数组，'F'为按列的Fortran风格数组\n",
    "\n",
    "可以创建为初始化数据的空的numpy数组，数组元素此时为随机值，因为他们未初始化。\n",
    "\"\"\"\n",
    "e = np.empty((3, 3), dtype=int, order='C')\n",
    "print e"
   ]
  },
  {
   "cell_type": "code",
   "execution_count": 7,
   "metadata": {},
   "outputs": [
    {
     "name": "stdout",
     "output_type": "stream",
     "text": [
      "[[ 0.  0.  0.]\n",
      " [ 0.  0.  0.]\n",
      " [ 0.  0.  0.]]\n"
     ]
    }
   ],
   "source": [
    "\"\"\"\n",
    "numpy.zeros(shape, dtype=float, order='C')\n",
    "创建0元素填充的指定形状的数组\n",
    "\"\"\"\n",
    "f = np.zeros((3, 3), dtype=float, order='C')\n",
    "print f"
   ]
  },
  {
   "cell_type": "code",
   "execution_count": 8,
   "metadata": {
    "collapsed": true
   },
   "outputs": [],
   "source": [
    "x = np.zeros((3, 2), dtype=int, order='C')"
   ]
  },
  {
   "cell_type": "code",
   "execution_count": 9,
   "metadata": {},
   "outputs": [
    {
     "name": "stdout",
     "output_type": "stream",
     "text": [
      "[[ 1.  1.  1.]\n",
      " [ 1.  1.  1.]\n",
      " [ 1.  1.  1.]]\n"
     ]
    }
   ],
   "source": [
    "\"\"\"\n",
    "numpy.ones(shape, dtype=float, order='C')\n",
    "创建以1填充的指定形状的数组\n",
    "\"\"\"\n",
    "g = np.ones((3, 3), dtype=float, order='C')\n",
    "print g"
   ]
  },
  {
   "cell_type": "code",
   "execution_count": 14,
   "metadata": {},
   "outputs": [
    {
     "name": "stdout",
     "output_type": "stream",
     "text": [
      "[[1 2]\n",
      " [3 4]]\n",
      "int64\n",
      "[[1 2]\n",
      " [3 4]]\n",
      "int32\n"
     ]
    }
   ],
   "source": [
    "\"\"\"\n",
    "numpy.asarray(a, dtype=None, order=None)\n",
    "@param a 任意类型的数组、元组\n",
    "@param dtype 数据类型，通常会直接使用输入数据的类型\n",
    "@param order 数组风格\n",
    "\n",
    "从已存在数据创建数组\n",
    "\"\"\"\n",
    "arr = [(1, 2), (3, 4)]\n",
    "h = np.asarray(arr)\n",
    "print h\n",
    "print h.dtype\n",
    "\n",
    "h = np.asarray(arr, dtype='int32')\n",
    "print h\n",
    "print h.dtype"
   ]
  },
  {
   "cell_type": "code",
   "execution_count": 16,
   "metadata": {},
   "outputs": [
    {
     "name": "stdout",
     "output_type": "stream",
     "text": [
      "['h' 'e' 'l' 'l' 'o' ',' ' ' 'n' 'u' 'm' 'p' 'y']\n"
     ]
    }
   ],
   "source": [
    "\"\"\"\n",
    "将缓冲区解释为一维数组\n",
    "\n",
    "numpy.frombuffer(buffer, dtype=float, count=-1, offset=0)\n",
    "@param buffer 任何暴露缓冲区接口的对象\n",
    "@param dtype 返回的数组数据类型\n",
    "@param count 读取的数据量，默认-1，即读取所有数据\n",
    "@param offset 需要读取的起始位置\n",
    "\"\"\"\n",
    "str = \"hello, numpy\"\n",
    "i = np.frombuffer(str, dtype='S1')\n",
    "print i"
   ]
  },
  {
   "cell_type": "code",
   "execution_count": 18,
   "metadata": {},
   "outputs": [
    {
     "name": "stdout",
     "output_type": "stream",
     "text": [
      "[  0.   1.   4.   9.  16.]\n"
     ]
    }
   ],
   "source": [
    "\"\"\"\n",
    "从可迭代对象构建一个ndarray对象。\n",
    "\n",
    "numpy.fromiter(iterable, dtype, count=-1)\n",
    "\"\"\"\n",
    "\n",
    "iterable = (x * x for x in range(5))\n",
    "j = np.fromiter(iterable, dtype=float)\n",
    "print j"
   ]
  },
  {
   "cell_type": "code",
   "execution_count": 19,
   "metadata": {},
   "outputs": [
    {
     "name": "stdout",
     "output_type": "stream",
     "text": [
      "[0 1 2 3 4]\n"
     ]
    }
   ],
   "source": [
    "\"\"\"\n",
    "来自数值范围的数组\n",
    "\n",
    "numpy.arange(start=0, stop, step=1, dtype)\n",
    "\"\"\"\n",
    "\n",
    "k = np.arange(5)\n",
    "print k"
   ]
  },
  {
   "cell_type": "code",
   "execution_count": 22,
   "metadata": {},
   "outputs": [
    {
     "name": "stdout",
     "output_type": "stream",
     "text": [
      "(array([ 10. ,  12.5,  15. ,  17.5,  20. ]), 2.5)\n"
     ]
    }
   ],
   "source": [
    "\"\"\"\n",
    "在指定的范围内，均匀间隔生成指定数量元素的数组\n",
    "\n",
    "numpy.linspace(start, stop, num=50, endpoint=True, retstep, dtype)\n",
    "@param start \n",
    "@stop\n",
    "@num 要生成间隔样例的数量，默认为50\n",
    "@retstep 如果为True，则返回生成的数组与步长\n",
    "@dtype \n",
    "\"\"\"\n",
    "\n",
    "l = np.linspace(10, 20, 5, retstep=True)\n",
    "print l"
   ]
  },
  {
   "cell_type": "code",
   "execution_count": 23,
   "metadata": {},
   "outputs": [
    {
     "name": "stdout",
     "output_type": "stream",
     "text": [
      "[  10.           12.91549665   16.68100537   21.5443469    27.82559402\n",
      "   35.93813664   46.41588834   59.94842503   77.42636827  100.        ]\n"
     ]
    }
   ],
   "source": [
    "\"\"\"\n",
    "从 base ** start，至 base ** stop，均匀对数间隔，生成指定元素数量的数组\n",
    "\n",
    "numpy.logspace(start, stop, num=50, endpoint=True, base=10, dtype)\n",
    "@param start\n",
    "\"\"\"\n",
    "\n",
    "m = np.logspace(1, 2, num=10)\n",
    "print m"
   ]
  },
  {
   "cell_type": "markdown",
   "metadata": {},
   "source": [
    "# Python切片和索引"
   ]
  },
  {
   "cell_type": "markdown",
   "metadata": {},
   "source": [
    "## 基本切片\n",
    "将`start`、`stop`、`step` 参数提供给内置的`slice`对象，将`slice`对象传递给数组，提取数组的一部分。"
   ]
  },
  {
   "cell_type": "code",
   "execution_count": 26,
   "metadata": {},
   "outputs": [
    {
     "name": "stdout",
     "output_type": "stream",
     "text": [
      "[2 4 6]\n"
     ]
    }
   ],
   "source": [
    "# sample 1\n",
    "a = np.arange(10)\n",
    "s = slice(2, 7, 2)\n",
    "print a[s] # from 2 to 7 step 2: [2 4 6]"
   ]
  },
  {
   "cell_type": "code",
   "execution_count": 27,
   "metadata": {},
   "outputs": [
    {
     "name": "stdout",
     "output_type": "stream",
     "text": [
      "[2 4 6]\n"
     ]
    }
   ],
   "source": [
    "# sample 2\n",
    "# 直接将 start:stop:step 传给数组\n",
    "print a[2:7:2]"
   ]
  },
  {
   "cell_type": "code",
   "execution_count": 28,
   "metadata": {},
   "outputs": [
    {
     "name": "stdout",
     "output_type": "stream",
     "text": [
      "5\n"
     ]
    }
   ],
   "source": [
    "# sample 3\n",
    "# 访问单元素\n",
    "print a[5]  # 5"
   ]
  },
  {
   "cell_type": "code",
   "execution_count": 30,
   "metadata": {},
   "outputs": [
    {
     "name": "stdout",
     "output_type": "stream",
     "text": [
      "[2 3 4 5 6 7 8 9]\n"
     ]
    }
   ],
   "source": [
    "# sample 4 \n",
    "# start:   从指定索引开始访问剩下所有元素\n",
    "print a[2:]  # 编程中的区间一般是前闭后开"
   ]
  },
  {
   "cell_type": "code",
   "execution_count": 32,
   "metadata": {},
   "outputs": [
    {
     "name": "stdout",
     "output_type": "stream",
     "text": [
      "[2 3 4]\n"
     ]
    }
   ],
   "source": [
    "# sample 5\n",
    "# start:stop\n",
    "print a[2:5]  # [2 3 4]"
   ]
  },
  {
   "cell_type": "markdown",
   "metadata": {},
   "source": [
    "**多维数组切片**"
   ]
  },
  {
   "cell_type": "code",
   "execution_count": 33,
   "metadata": {},
   "outputs": [
    {
     "name": "stdout",
     "output_type": "stream",
     "text": [
      "[[1 2 3]\n",
      " [4 5 6]\n",
      " [7 8 9]]\n",
      "[1:] 切片：\n",
      "[[4 5 6]\n",
      " [7 8 9]]\n"
     ]
    }
   ],
   "source": [
    "\"\"\"多维数组切片\n",
    "\"\"\"\n",
    "b = np.array([[1, 2, 3], [4, 5, 6], [7, 8, 9]])\n",
    "print b\n",
    "print \"[1:] 切片：\"\n",
    "print b[1:]"
   ]
  },
  {
   "cell_type": "markdown",
   "metadata": {},
   "source": [
    "切片也可以使用`...`，来使选择的元素与原始数组的维度相同。      \n",
    "**`...`在前按列切分，`...`在后，按行切分。**"
   ]
  },
  {
   "cell_type": "code",
   "execution_count": 36,
   "metadata": {},
   "outputs": [
    {
     "name": "stdout",
     "output_type": "stream",
     "text": [
      "[4 5 6]\n"
     ]
    }
   ],
   "source": [
    "print b[1, ...] # 访问第一行（下标从0开始）"
   ]
  },
  {
   "cell_type": "code",
   "execution_count": 37,
   "metadata": {},
   "outputs": [
    {
     "name": "stdout",
     "output_type": "stream",
     "text": [
      "[2 5 8]\n"
     ]
    }
   ],
   "source": [
    "print b[..., 1] # 访问第一列（下标从0开始）"
   ]
  },
  {
   "cell_type": "code",
   "execution_count": 40,
   "metadata": {},
   "outputs": [
    {
     "name": "stdout",
     "output_type": "stream",
     "text": [
      "[[4 5 6]\n",
      " [7 8 9]]\n"
     ]
    }
   ],
   "source": [
    "print b[1:, ...]  # 相当于 b[1:]"
   ]
  },
  {
   "cell_type": "code",
   "execution_count": 41,
   "metadata": {},
   "outputs": [
    {
     "name": "stdout",
     "output_type": "stream",
     "text": [
      "[[2 3]\n",
      " [5 6]\n",
      " [8 9]]\n"
     ]
    }
   ],
   "source": [
    "print b[..., 1:] # 第一列及剩下列"
   ]
  },
  {
   "cell_type": "markdown",
   "metadata": {},
   "source": [
    "## NumPy 高级索引"
   ]
  },
  {
   "cell_type": "code",
   "execution_count": null,
   "metadata": {
    "collapsed": true
   },
   "outputs": [],
   "source": []
  }
 ],
 "metadata": {
  "kernelspec": {
   "display_name": "Python 2",
   "language": "python",
   "name": "python2"
  },
  "language_info": {
   "codemirror_mode": {
    "name": "ipython",
    "version": 2
   },
   "file_extension": ".py",
   "mimetype": "text/x-python",
   "name": "python",
   "nbconvert_exporter": "python",
   "pygments_lexer": "ipython2",
   "version": "2.7.14"
  }
 },
 "nbformat": 4,
 "nbformat_minor": 2
}
